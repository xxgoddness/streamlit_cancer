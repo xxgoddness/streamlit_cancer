{
  "cells": [
    {
      "cell_type": "markdown",
      "metadata": {
        "id": "view-in-github",
        "colab_type": "text"
      },
      "source": [
        "<a href=\"https://colab.research.google.com/github/xxgoddness/streamlit_cancer/blob/main/Salinan_dari_Salinan_dari_Web_Scrapping_non.ipynb\" target=\"_parent\"><img src=\"https://colab.research.google.com/assets/colab-badge.svg\" alt=\"Open In Colab\"/></a>"
      ]
    },
    {
      "cell_type": "markdown",
      "metadata": {
        "id": "_cximkjiwaxM"
      },
      "source": [
        "## Menginstall Library Google Play Scraper"
      ]
    },
    {
      "cell_type": "code",
      "execution_count": null,
      "metadata": {
        "id": "SW0kKlfMv-Xv"
      },
      "outputs": [],
      "source": [
        "!pip install google-play-scraper"
      ]
    },
    {
      "cell_type": "markdown",
      "metadata": {
        "id": "VDczheBEwkro"
      },
      "source": [
        "## Mengimport Library Scrapping"
      ]
    },
    {
      "cell_type": "code",
      "execution_count": null,
      "metadata": {
        "id": "SgEmLe4cwYNy"
      },
      "outputs": [],
      "source": [
        "from google_play_scraper import app\n",
        "from google_play_scraper import Sort, reviews\n",
        "import pandas as pd\n",
        "import numpy as np"
      ]
    },
    {
      "cell_type": "markdown",
      "metadata": {
        "id": "LWCsSSTcxDGX"
      },
      "source": [
        "## Memulai Scraping"
      ]
    },
    {
      "cell_type": "markdown",
      "metadata": {
        "id": "7DpPU8rYXwFE"
      },
      "source": [
        "#### Petunjuk"
      ]
    },
    {
      "cell_type": "code",
      "execution_count": null,
      "metadata": {
        "id": "8J8JpEXvWpua"
      },
      "outputs": [],
      "source": [
        "# Keterangan :\n",
        "# 1. lang = Language/bahasa, digunakan untuk memilah review dengan bahasa yang diinginkan\n",
        "# 2. country = Negara, digunakan untuk memilah negara yang diinginkan\n",
        "# 3. sort = menyorting berdasarkan yang diinginkan\n",
        "#       MOST_RELEVANT : mencari yang paling relevan, biasanya komentarnya bagus\n",
        "#       NEWEST : komentar/ulasan terbaru\n",
        "# 4. count = banyaknya data/komentar/ulasan\n",
        "# 5. filter_score_with = rating komentar/ulasan\n",
        "#       None artinya tidak ada filter dalam rating, semua rating diambil\n",
        "#       alasannya agar dapat terlihat hasil sentimentnya"
      ]
    },
    {
      "cell_type": "markdown",
      "metadata": {
        "id": "zzGxVVoX4O0Z"
      },
      "source": [
        "#### 1.   Scraping Review Kredivo\n",
        "\n",
        "\n"
      ]
    },
    {
      "cell_type": "code",
      "execution_count": null,
      "metadata": {
        "id": "lN8eFtTdwp4d"
      },
      "outputs": [],
      "source": [
        "# Review Kredivo\n",
        "result_kredivo, continuation_token = reviews(\n",
        "    'com.finaccel.android',\n",
        "    lang = 'id',\n",
        "    country = 'id',\n",
        "    sort = Sort.MOST_RELEVANT,\n",
        "    count = 15000,\n",
        "    filter_score_with = None\n",
        ")"
      ]
    },
    {
      "cell_type": "markdown",
      "metadata": {
        "id": "smbhXAHS5Woz"
      },
      "source": [
        "#### 2.   Scraping Review Akulaku\n",
        "\n"
      ]
    },
    {
      "cell_type": "code",
      "execution_count": null,
      "metadata": {
        "id": "7qSAmvMZ45lS"
      },
      "outputs": [],
      "source": [
        "# Review Akulaku\n",
        "result_akulaku, continuation_token = reviews(\n",
        "    'io.silvrr.installment',\n",
        "    lang = 'id',\n",
        "    country = 'id',\n",
        "    sort = Sort.MOST_RELEVANT,\n",
        "    count = 15000,\n",
        "    filter_score_with = None\n",
        ")"
      ]
    },
    {
      "cell_type": "markdown",
      "metadata": {
        "id": "lXPJqumK5ehs"
      },
      "source": [
        "#### 3.   Scraping Review Indodana\n",
        "\n"
      ]
    },
    {
      "cell_type": "code",
      "execution_count": null,
      "metadata": {
        "id": "iDUuIzah5kTR"
      },
      "outputs": [],
      "source": [
        "# Review indodana\n",
        "result_indodana, continuation_token = reviews(\n",
        "    'com.indodana.app',\n",
        "    lang = 'id',\n",
        "    country = 'id',\n",
        "    sort = Sort.MOST_RELEVANT,\n",
        "    count = 15000,\n",
        "    filter_score_with = None\n",
        ")"
      ]
    },
    {
      "cell_type": "markdown",
      "metadata": {
        "id": "lJKbrQ2H0DQj"
      },
      "source": [
        "## Memasukan Hasil Scraping ke Dataset"
      ]
    },
    {
      "cell_type": "markdown",
      "metadata": {
        "id": "DR2WZHuP6V25"
      },
      "source": [
        "#### 1. Kredivo"
      ]
    },
    {
      "cell_type": "code",
      "execution_count": null,
      "metadata": {
        "id": "dlNNyURW0Jm1"
      },
      "outputs": [],
      "source": [
        "# Membuat Dataset dan menampilkan value teratas\n",
        "df_kredivo = pd.DataFrame(np.array(result_kredivo), columns = ['Review'])\n",
        "df_kredivo = df_kredivo.join(pd.DataFrame(df_kredivo.pop('Review').tolist()))\n",
        "df_kredivo.head()"
      ]
    },
    {
      "cell_type": "code",
      "execution_count": null,
      "metadata": {
        "id": "6u8Fd1jhWx40"
      },
      "outputs": [],
      "source": [
        "# Mengambil Dokumen raw\n",
        "df_kredivo.to_csv(\"raw_data_kredivo.csv\", index = False)"
      ]
    },
    {
      "cell_type": "code",
      "execution_count": null,
      "metadata": {
        "id": "nJ9CmXlM059Y"
      },
      "outputs": [],
      "source": [
        "# Drop column yang tidak diperlukan\n",
        "df_kredivo = df_kredivo.drop(columns = ['reviewId','userName','userImage', 'thumbsUpCount', 'reviewCreatedVersion', 'at', 'replyContent', 'repliedAt', 'appVersion'])"
      ]
    },
    {
      "cell_type": "code",
      "execution_count": null,
      "metadata": {
        "id": "3zBIZAQG5e7w"
      },
      "outputs": [],
      "source": [
        "# Labelling data\n",
        "# Untuk score 1 - 2 = negative\n",
        "# Untuk score 4 - 5 = Positive\n",
        "df_kredivo.loc[df_kredivo['score'] == 1, 'sentiment'] = 'negative'\n",
        "df_kredivo.loc[df_kredivo['score'] == 2, 'sentiment'] = 'negative'\n",
        "df_kredivo.loc[df_kredivo['score'] == 4, 'sentiment'] = 'positive'\n",
        "df_kredivo.loc[df_kredivo['score'] == 5, 'sentiment'] = 'positive'"
      ]
    },
    {
      "cell_type": "code",
      "execution_count": null,
      "metadata": {
        "id": "kWaAKyDmiBbe"
      },
      "outputs": [],
      "source": [
        "# Score = 3, dihapus dikarenakan ambigu\n",
        "netral1 = df_kredivo[(df_kredivo['score'] == 3)].index\n",
        "df_kredivo.drop(netral1, inplace = True)"
      ]
    },
    {
      "cell_type": "code",
      "execution_count": null,
      "metadata": {
        "id": "lvxAbFE701Ne"
      },
      "outputs": [],
      "source": [
        "# Melihat panjang value\n",
        "len(df_kredivo.index)"
      ]
    },
    {
      "cell_type": "code",
      "execution_count": null,
      "metadata": {
        "id": "p7DKO_ged_SJ"
      },
      "outputs": [],
      "source": [
        "# Banyaknya jumlah nilai pada rating tertentu\n",
        "df_kredivo['score'].value_counts().sort_values(ascending = False)"
      ]
    },
    {
      "cell_type": "code",
      "execution_count": null,
      "metadata": {
        "id": "1P2u9qp91Kyh"
      },
      "outputs": [],
      "source": [
        "# Membuat Dataset baru untuk disimpan dalam extensi .csv\n",
        "df_kredivo.to_csv(\"result_scraping_data_kredivo.csv\", index = False)"
      ]
    },
    {
      "cell_type": "markdown",
      "metadata": {
        "id": "WGZg8gY26a0Z"
      },
      "source": [
        "#### 2. Akulaku"
      ]
    },
    {
      "cell_type": "code",
      "execution_count": null,
      "metadata": {
        "id": "kT4rHeDU6f9C"
      },
      "outputs": [],
      "source": [
        "# Membuat Dataset dan menampilkan value teratas\n",
        "df_akulaku = pd.DataFrame(np.array(result_akulaku), columns = ['Review'])\n",
        "df_akulaku = df_akulaku.join(pd.DataFrame(df_akulaku.pop('Review').tolist()))\n",
        "df_akulaku.head()"
      ]
    },
    {
      "cell_type": "code",
      "execution_count": null,
      "metadata": {
        "id": "abJbRsf1XCIT"
      },
      "outputs": [],
      "source": [
        "df_akulaku.to_csv(\"raw_data_akulaku.csv\", index = False)"
      ]
    },
    {
      "cell_type": "code",
      "execution_count": null,
      "metadata": {
        "id": "5d9t_GPbQeBx"
      },
      "outputs": [],
      "source": [
        "# Drop column yang tidak diperlukan\n",
        "df_akulaku = df_akulaku.drop(columns = ['reviewId','userName','userImage', 'thumbsUpCount', 'reviewCreatedVersion', 'at', 'replyContent', 'repliedAt', 'appVersion'])"
      ]
    },
    {
      "cell_type": "code",
      "execution_count": null,
      "metadata": {
        "id": "lKGau8EuQqMV"
      },
      "outputs": [],
      "source": [
        "# Labelling data\n",
        "# Untuk score 1 - 2 = negative\n",
        "# Untuk score 4 - 5 = Positive\n",
        "df_akulaku.loc[df_akulaku['score'] == 1, 'sentiment'] = 'negative'\n",
        "df_akulaku.loc[df_akulaku['score'] == 2, 'sentiment'] = 'negative'\n",
        "df_akulaku.loc[df_akulaku['score'] == 4, 'sentiment'] = 'positive'\n",
        "df_akulaku.loc[df_akulaku['score'] == 5, 'sentiment'] = 'positive'"
      ]
    },
    {
      "cell_type": "code",
      "execution_count": null,
      "metadata": {
        "id": "aYEjyfv6J87a"
      },
      "outputs": [],
      "source": [
        "# Score = 3, dihapus dikarenakan ambigu\n",
        "netral2 = df_akulaku[(df_akulaku['score'] == 3)].index\n",
        "df_akulaku.drop(netral2, inplace = True)"
      ]
    },
    {
      "cell_type": "code",
      "execution_count": null,
      "metadata": {
        "id": "D93uBNHO6uBm"
      },
      "outputs": [],
      "source": [
        "# Melihat panjang value\n",
        "len(df_akulaku.index)"
      ]
    },
    {
      "cell_type": "code",
      "execution_count": null,
      "metadata": {
        "id": "E6ChRrFUQ725"
      },
      "outputs": [],
      "source": [
        "# Banyaknya jumlah nilai pada rating tertentu\n",
        "df_akulaku['score'].value_counts().sort_values(ascending = False)"
      ]
    },
    {
      "cell_type": "code",
      "execution_count": null,
      "metadata": {
        "id": "qBo1W_6z62Ma"
      },
      "outputs": [],
      "source": [
        "# Membuat Dataset baru untuk disimpan dalam extensi .csv\n",
        "df_akulaku.to_csv(\"result_scraping_data_akulaku.csv\", index = False)"
      ]
    },
    {
      "cell_type": "markdown",
      "metadata": {
        "id": "RHWF_VBG8h2O"
      },
      "source": [
        "#### 3. Indodana"
      ]
    },
    {
      "cell_type": "code",
      "execution_count": null,
      "metadata": {
        "id": "B_ysr5Ss8l1n"
      },
      "outputs": [],
      "source": [
        "# Membuat Dataset dan menampilkan value teratas\n",
        "df_indodana = pd.DataFrame(np.array(result_indodana), columns = ['Review'])\n",
        "df_indodana = df_indodana.join(pd.DataFrame(df_indodana.pop('Review').tolist()))\n",
        "df_indodana.head()"
      ]
    },
    {
      "cell_type": "code",
      "execution_count": null,
      "metadata": {
        "id": "XyogU_mMXMSV"
      },
      "outputs": [],
      "source": [
        "df_indodana.to_csv(\"raw_data_indodana.csv\", index = False)"
      ]
    },
    {
      "cell_type": "code",
      "execution_count": null,
      "metadata": {
        "id": "y-Cz2T18RAFm"
      },
      "outputs": [],
      "source": [
        "# Drop column yang tidak diperlukan\n",
        "df_indodana = df_indodana.drop(columns = ['reviewId','userName','userImage', 'thumbsUpCount', 'reviewCreatedVersion', 'at', 'replyContent', 'repliedAt', 'appVersion'])"
      ]
    },
    {
      "cell_type": "code",
      "execution_count": null,
      "metadata": {
        "id": "GnkoxlOzRCl5"
      },
      "outputs": [],
      "source": [
        "# Labelling data\n",
        "# Untuk score 1 - 2 = negative\n",
        "# Untuk score 4 - 5 = Positive\n",
        "df_indodana.loc[df_indodana['score'] == 1, 'sentiment'] = 'negative'\n",
        "df_indodana.loc[df_indodana['score'] == 2, 'sentiment'] = 'negative'\n",
        "df_indodana.loc[df_indodana['score'] == 4, 'sentiment'] = 'positive'\n",
        "df_indodana.loc[df_indodana['score'] == 5, 'sentiment'] = 'positive'"
      ]
    },
    {
      "cell_type": "code",
      "execution_count": null,
      "metadata": {
        "id": "xa4__o7pLl9D"
      },
      "outputs": [],
      "source": [
        "# Score = 3, dihapus dikarenakan ambigu\n",
        "netral3 = df_indodana[(df_indodana['score'] == 3)].index\n",
        "df_indodana.drop(netral3, inplace = True)"
      ]
    },
    {
      "cell_type": "code",
      "execution_count": null,
      "metadata": {
        "id": "ZqaAADVg8v-L"
      },
      "outputs": [],
      "source": [
        "# Melihat panjang value\n",
        "len(df_indodana.index)"
      ]
    },
    {
      "cell_type": "code",
      "execution_count": null,
      "metadata": {
        "id": "zlcCDXAqRLmQ"
      },
      "outputs": [],
      "source": [
        "# Banyaknya jumlah nilai pada rating tertentu\n",
        "df_indodana['score'].value_counts().sort_values(ascending = False)"
      ]
    },
    {
      "cell_type": "code",
      "execution_count": null,
      "metadata": {
        "id": "cYf3ZhQy84_S"
      },
      "outputs": [],
      "source": [
        "# Membuat Dataset baru untuk disimpan dalam extensi .csv\n",
        "df_indodana.to_csv(\"result_scraping_data_indodana.csv\", index = False)"
      ]
    },
    {
      "cell_type": "markdown",
      "metadata": {
        "id": "0qOfgxm14osP"
      },
      "source": [
        "## EDA (Explarotary Data Analysis)"
      ]
    },
    {
      "cell_type": "markdown",
      "metadata": {
        "id": "nKpHL3fP7di_"
      },
      "source": [
        "### Import Library Yang Dibutuhkan"
      ]
    },
    {
      "cell_type": "code",
      "execution_count": null,
      "metadata": {
        "id": "lONDvfHu7bZ4"
      },
      "outputs": [],
      "source": [
        "import matplotlib.pyplot as plt\n",
        "import seaborn as sns\n",
        "color = sns.color_palette()\n",
        "%matplotlib inline\n",
        "import plotly.offline as py\n",
        "py.init_notebook_mode(connected=True)\n",
        "import plotly.graph_objs as go\n",
        "import plotly.tools as tls\n",
        "import plotly.express as px\n",
        "from wordcloud import WordCloud"
      ]
    },
    {
      "cell_type": "markdown",
      "metadata": {
        "id": "J7HbXE7z-z9d"
      },
      "source": [
        "### Style Use"
      ]
    },
    {
      "cell_type": "code",
      "execution_count": null,
      "metadata": {
        "id": "-BVvRJLe-SfC"
      },
      "outputs": [],
      "source": [
        "plt.style.use(\"fivethirtyeight\")"
      ]
    },
    {
      "cell_type": "markdown",
      "metadata": {
        "id": "cdNQzHwY7qN2"
      },
      "source": [
        "### Membuat Chart Kredivo"
      ]
    },
    {
      "cell_type": "markdown",
      "metadata": {
        "id": "XDeXeH1d-dbk"
      },
      "source": [
        "#### 1. Bar Chart (Perbandingan Sentiment)"
      ]
    },
    {
      "cell_type": "code",
      "execution_count": null,
      "metadata": {
        "id": "T4snYOvFMP_5"
      },
      "outputs": [],
      "source": [
        "plt.figure(figsize = (5,5))\n",
        "ax = sns.countplot(x = df_kredivo['sentiment'] , hue = df_kredivo['sentiment'], dodge = False, palette = \"viridis\", linewidth = 1)\n",
        "ax.legend(labels = ['Positive', 'Negative'])\n",
        "plt.title('Rating Kredivo')\n",
        "plt.ylabel('Jumlah')\n",
        "plt.xlabel('Rating')\n",
        "plt.show()"
      ]
    },
    {
      "cell_type": "markdown",
      "metadata": {
        "id": "n1TA2lYC7ZnX"
      },
      "source": [
        "#### 2. Pie Chart (Perbandingan Sentiment dalam persen)"
      ]
    },
    {
      "cell_type": "code",
      "execution_count": null,
      "metadata": {
        "id": "1T4kddDtOeed"
      },
      "outputs": [],
      "source": [
        "sentiment_count_kre = df_kredivo['sentiment'].value_counts()\n",
        "plt.pie(sentiment_count_kre, labels= sentiment_count_kre.index,\n",
        "        autopct='%1.1f%%',shadow=True, startangle=140)\n",
        "plt.show()"
      ]
    },
    {
      "cell_type": "markdown",
      "metadata": {
        "id": "YIydNP9V_ycy"
      },
      "source": [
        "#### 3. Wordcloud"
      ]
    },
    {
      "cell_type": "code",
      "execution_count": null,
      "metadata": {
        "id": "wcTpReFW-IDC"
      },
      "outputs": [],
      "source": [
        "text_kr = ' '.join(df_kredivo['content'])\n",
        "\n",
        "wordcloud_kr = WordCloud(width=800, height=400, background_color='white').generate(text_kr)\n",
        "\n",
        "plt.figure(figsize=(10, 5))\n",
        "plt.imshow(wordcloud_kr, interpolation='bilinear')\n",
        "plt.title('WordCloud Kredivo')\n",
        "plt.axis('off')\n",
        "plt.show()"
      ]
    },
    {
      "cell_type": "code",
      "execution_count": null,
      "metadata": {
        "id": "slEMkKCX7jpR"
      },
      "outputs": [],
      "source": [
        "import cv2\n",
        "from wordcloud import WordCloud"
      ]
    },
    {
      "cell_type": "code",
      "execution_count": null,
      "metadata": {
        "id": "4bpYCJZs78Nv"
      },
      "outputs": [],
      "source": [
        "# Download gambar masking\n",
        "!wget https://raw.githubusercontent.com/ksnugroho/klasifikasi-spam-sms/master/img/cloud.jpg"
      ]
    },
    {
      "cell_type": "code",
      "execution_count": null,
      "metadata": {
        "id": "efj0VDq67ZeZ"
      },
      "outputs": [],
      "source": [
        "originalImage = cv2.imread('cloud.jpg')\n",
        "grayImage = cv2.cvtColor(originalImage, cv2.COLOR_BGR2GRAY)\n",
        "(thresh, cloud_mask) = cv2.threshold(grayImage, 100, 255, cv2.THRESH_BINARY)"
      ]
    },
    {
      "cell_type": "code",
      "execution_count": null,
      "metadata": {
        "id": "xb7yQX6_7iNs"
      },
      "outputs": [],
      "source": [
        "#positive\n",
        "positife_stat = df_kredivo[df_kredivo.score == 5]\n",
        "normal_string = []\n",
        "\n",
        "for t in positife_stat.content:\n",
        "  normal_string.append(t)\n",
        "\n",
        "normal_string = pd.Series(normal_string).str.cat(sep=' ')\n",
        "from wordcloud import WordCloud\n",
        "\n",
        "wordcloud = WordCloud(width=1600, height=800, margin=10,\n",
        "                      background_color='white', colormap='Dark2',\n",
        "                      max_font_size=200, min_font_size=25,\n",
        "                      mask=cloud_mask, contour_width=10, contour_color='firebrick',\n",
        "                      max_words=100).generate(normal_string)\n",
        "plt.figure(figsize=(10,8))\n",
        "plt.imshow(wordcloud)\n",
        "plt.axis(\"off\")\n",
        "plt.show()\n"
      ]
    },
    {
      "cell_type": "code",
      "execution_count": null,
      "metadata": {
        "id": "6kStA9uM__KF"
      },
      "outputs": [],
      "source": [
        "negatife_stat = df_kredivo[df_kredivo.score == 1]\n",
        "normal_string = []\n",
        "\n",
        "for t in negatife_stat.content:\n",
        "  normal_string.append(t)\n",
        "\n",
        "normal_string = pd.Series(normal_string).str.cat(sep=' ')\n",
        "from wordcloud import WordCloud\n",
        "\n",
        "wordcloud = WordCloud(width=1600, height=800, margin=10,\n",
        "                      background_color='white', colormap='Dark2',\n",
        "                      max_font_size=200, min_font_size=25,\n",
        "                      mask=cloud_mask, contour_width=10, contour_color='firebrick',\n",
        "                      max_words=100).generate(normal_string)\n",
        "plt.figure(figsize=(10,8))\n",
        "plt.imshow(wordcloud)\n",
        "plt.axis(\"off\")\n",
        "plt.show()"
      ]
    },
    {
      "cell_type": "markdown",
      "metadata": {
        "id": "eJbs2G6ECMXB"
      },
      "source": [
        "### Membuat Chart Akulaku"
      ]
    },
    {
      "cell_type": "markdown",
      "metadata": {
        "id": "9RzZbbG_ApzP"
      },
      "source": [
        "#### 1. Bar Chart (Perbandingan Sentiment)"
      ]
    },
    {
      "cell_type": "code",
      "execution_count": null,
      "metadata": {
        "id": "B3kH5lGdMsq3"
      },
      "outputs": [],
      "source": [
        "plt.figure(figsize = (5,5))\n",
        "ax = sns.countplot(x = df_akulaku['sentiment'] , hue = df_akulaku['sentiment'], dodge = False, palette = \"viridis\", linewidth = 1)\n",
        "ax.legend(labels = ['Positive', 'Negative'])\n",
        "plt.title('Rating Akulaku')\n",
        "plt.ylabel('Jumlah')\n",
        "plt.xlabel('Rating')\n",
        "plt.show()"
      ]
    },
    {
      "cell_type": "markdown",
      "metadata": {
        "id": "H5b7JXBQAvFV"
      },
      "source": [
        "#### 2. Pie Chart (Perbandingan Sentiment dalam persen)"
      ]
    },
    {
      "cell_type": "code",
      "execution_count": null,
      "metadata": {
        "id": "1Igp1TohACBn"
      },
      "outputs": [],
      "source": [
        "sentiment_count_aku = df_akulaku['sentiment'].value_counts()\n",
        "plt.pie(sentiment_count_aku, labels= sentiment_count_aku.index,\n",
        "        autopct='%1.1f%%',shadow=True, startangle=140)\n",
        "plt.show()"
      ]
    },
    {
      "cell_type": "markdown",
      "metadata": {
        "id": "u8gf-Wr4AycR"
      },
      "source": [
        "#### 3. Wordcloud"
      ]
    },
    {
      "cell_type": "code",
      "execution_count": null,
      "metadata": {
        "id": "huvXUtv7BV8w"
      },
      "outputs": [],
      "source": [
        "text_ak = ' '.join(df_akulaku['content'])\n",
        "\n",
        "wordcloud_ak = WordCloud(width=800, height=400, background_color='white').generate(text_ak)\n",
        "\n",
        "plt.figure(figsize=(10, 5))\n",
        "plt.imshow(wordcloud_ak, interpolation='bilinear')\n",
        "plt.title('WordCloud Akulaku')\n",
        "plt.axis('off')\n",
        "plt.show()"
      ]
    },
    {
      "cell_type": "markdown",
      "metadata": {
        "id": "RvBn4uS7BsrB"
      },
      "source": [
        "### Membuat Chart Indodana"
      ]
    },
    {
      "cell_type": "markdown",
      "metadata": {
        "id": "P5GKOpNMBwsx"
      },
      "source": [
        "#### 1. Bar Chart (Perbandingan Sentiment)"
      ]
    },
    {
      "cell_type": "code",
      "execution_count": null,
      "metadata": {
        "id": "qNk6H_8LDDVM"
      },
      "outputs": [],
      "source": [
        "plt.figure(figsize = (5,5))\n",
        "ax = sns.countplot(x = df_indodana['sentiment'] , hue = df_indodana['sentiment'], dodge = False, palette = \"viridis\", linewidth = 1)\n",
        "ax.legend(labels = ['Positive', 'Negative'])\n",
        "plt.title('Rating Indodana')\n",
        "plt.ylabel('Jumlah')\n",
        "plt.xlabel('Rating')\n",
        "plt.show()"
      ]
    },
    {
      "cell_type": "markdown",
      "metadata": {
        "id": "0OLglPTIB7UF"
      },
      "source": [
        "#### 2. Pie Chart (Perbandingan Sentiment dalam persen)"
      ]
    },
    {
      "cell_type": "code",
      "execution_count": null,
      "metadata": {
        "id": "ypyir5azAQHq"
      },
      "outputs": [],
      "source": [
        "sentiment_count_idn = df_indodana['sentiment'].value_counts()\n",
        "plt.pie(sentiment_count_idn, labels= sentiment_count_idn.index,\n",
        "        autopct='%1.1f%%',shadow=True, startangle=140)\n",
        "plt.show()"
      ]
    },
    {
      "cell_type": "markdown",
      "metadata": {
        "id": "md_nfRg9CHxS"
      },
      "source": [
        "#### 3. Wordcloud"
      ]
    },
    {
      "cell_type": "code",
      "execution_count": null,
      "metadata": {
        "id": "rNM9oJ0yCIos"
      },
      "outputs": [],
      "source": [
        "text_id = ' '.join(df_indodana['content'])\n",
        "\n",
        "wordcloud_id = WordCloud(width=800, height=400, background_color='white').generate(text_id)\n",
        "\n",
        "plt.figure(figsize=(10, 5))\n",
        "plt.imshow(wordcloud_id, interpolation='bilinear')\n",
        "plt.title('WordCloud Indodana')\n",
        "plt.axis('off')\n",
        "plt.show()"
      ]
    },
    {
      "cell_type": "markdown",
      "metadata": {
        "id": "yJ2C-FIbMkon"
      },
      "source": [
        "## Preparation"
      ]
    },
    {
      "cell_type": "markdown",
      "metadata": {
        "id": "KswUMRNoY_OY"
      },
      "source": [
        "### Install"
      ]
    },
    {
      "cell_type": "code",
      "execution_count": null,
      "metadata": {
        "id": "Ejm3tuV2HI1x"
      },
      "outputs": [],
      "source": [
        "!pip install emoji --upgrade"
      ]
    },
    {
      "cell_type": "code",
      "execution_count": null,
      "metadata": {
        "id": "Tb5QM7EmlLxA"
      },
      "outputs": [],
      "source": [
        "!pip install clean-text"
      ]
    },
    {
      "cell_type": "code",
      "execution_count": null,
      "metadata": {
        "id": "t2LMKO2yTNd0"
      },
      "outputs": [],
      "source": [
        "!pip install nltk"
      ]
    },
    {
      "cell_type": "code",
      "execution_count": null,
      "metadata": {
        "id": "OXtV2jc3TXaP"
      },
      "outputs": [],
      "source": [
        "!pip install PySastrawi"
      ]
    },
    {
      "cell_type": "markdown",
      "metadata": {
        "id": "rFxQq9TPlAQL"
      },
      "source": [
        "### Import Library"
      ]
    },
    {
      "cell_type": "code",
      "execution_count": null,
      "metadata": {
        "id": "3kjpKSu9ZJAW"
      },
      "outputs": [],
      "source": [
        "import pandas as pd\n",
        "import numpy as np\n",
        "import nltk\n",
        "import string\n",
        "import re\n",
        "import emoji\n",
        "import string\n",
        "from cleantext import clean\n",
        "from nltk.corpus import stopwords\n",
        "from nltk.tokenize import word_tokenize\n",
        "from Sastrawi.Stemmer.StemmerFactory import StemmerFactory\n",
        "from sklearn.pipeline import Pipeline"
      ]
    },
    {
      "cell_type": "code",
      "execution_count": null,
      "metadata": {
        "id": "VwjYieCwThp4"
      },
      "outputs": [],
      "source": [
        "nltk.download('popular')"
      ]
    },
    {
      "cell_type": "markdown",
      "metadata": {
        "id": "-5NQKmGmlFS0"
      },
      "source": [
        "### Membuat Function"
      ]
    },
    {
      "cell_type": "markdown",
      "metadata": {
        "id": "RJ7hupq5IhdO"
      },
      "source": [
        "#### Load Data"
      ]
    },
    {
      "cell_type": "code",
      "execution_count": null,
      "metadata": {
        "id": "JGKCNSJ7ZM4k"
      },
      "outputs": [],
      "source": [
        "# Kredivo load data\n",
        "def load_data_kredivo():\n",
        "    data_1 = pd.read_csv('result_scraping_data_kredivo.csv')\n",
        "    return data_1"
      ]
    },
    {
      "cell_type": "code",
      "execution_count": null,
      "metadata": {
        "id": "_XcUBs3KZVOm"
      },
      "outputs": [],
      "source": [
        "# Akulaku load data\n",
        "def load_data_akulaku():\n",
        "    data_2 = pd.read_csv('result_scraping_data_akulaku.csv')\n",
        "    return data_2"
      ]
    },
    {
      "cell_type": "code",
      "execution_count": null,
      "metadata": {
        "id": "Y4SjAT_9Zis3"
      },
      "outputs": [],
      "source": [
        "# Indodana load data\n",
        "def load_data_indodana():\n",
        "    data_3 = pd.read_csv('result_scraping_data_indodana.csv')\n",
        "    return data_3"
      ]
    },
    {
      "cell_type": "markdown",
      "metadata": {
        "id": "q8J0XiaSInOV"
      },
      "source": [
        "#### Data Cleaning"
      ]
    },
    {
      "cell_type": "code",
      "execution_count": null,
      "metadata": {
        "id": "B7hHQThWaXpH"
      },
      "outputs": [],
      "source": [
        "string.punctuation"
      ]
    },
    {
      "cell_type": "code",
      "execution_count": null,
      "metadata": {
        "id": "Aw0AZx3DRymB"
      },
      "outputs": [],
      "source": [
        "#replace url\n",
        "def replace_url(content, default_replace=\"\"):\n",
        "  content = re.sub('(http|https):\\/\\/\\S+', default_replace, content)\n",
        "  return content"
      ]
    },
    {
      "cell_type": "code",
      "execution_count": null,
      "metadata": {
        "id": "hjKIu9_JZsgR"
      },
      "outputs": [],
      "source": [
        "# Remove pattern\n",
        "def remove_pattern (input_txt, pattern):\n",
        "    r = re.findall(pattern, input_txt)\n",
        "    for i in r:\n",
        "        input_txt = re.sub(i, '',input_txt)\n",
        "    return input_txt"
      ]
    },
    {
      "cell_type": "code",
      "execution_count": null,
      "metadata": {
        "id": "0v9bt8rAHngY"
      },
      "outputs": [],
      "source": [
        "# Replace punctuation repetition\n",
        "def punct_repetition(content):\n",
        "  content = \"\".join([char for char in content if char not in string.punctuation])\n",
        "  content = re.sub('[0-9]+', '', content)\n",
        "  return content"
      ]
    },
    {
      "cell_type": "code",
      "execution_count": null,
      "metadata": {
        "id": "buntv3ERc3BS"
      },
      "outputs": [],
      "source": [
        "#replace emoji\n",
        "def demojize(content):\n",
        "  content = clean(content, no_emoji=True)\n",
        "  return content"
      ]
    },
    {
      "cell_type": "code",
      "execution_count": null,
      "metadata": {
        "id": "0R-i6JbNbm7i"
      },
      "outputs": [],
      "source": [
        "# Cleaning\n",
        "def remove(content):\n",
        "    content = content.lower()                               # Case Folding\n",
        "    content = re.sub('[0-9]+','', content)                  # Remove Number\n",
        "    content = re.sub(r'\\$\\w*','', content)                  # Remove stock market tikcers like $GE\n",
        "    content = re.sub(r'https?:\\/\\/.*[\\r\\n*]','', content)   # Remove Hyperlinks\n",
        "    content = re.sub(r'#','', content)                      # Remove Hastag\n",
        "    content = re.sub(r',',' ', content)                     # Remove comma\n",
        "    content = re.sub(r'/',' ', content)                     # Remove Slash\n",
        "    content = re.sub(r'\\w*\\d\\w*', '', content).strip()      # Hapus angka dan angka yang berada dalam string\n",
        "    content = re.sub(r':','', content)                      # Remove :\n",
        "    content = re.sub(r'(.)\\1+',r'\\1\\1', content)\n",
        "    content = punct_repetition(content)\n",
        "    content = replace_url(content)\n",
        "    content = demojize(content)\n",
        "\n",
        "    return content"
      ]
    },
    {
      "cell_type": "markdown",
      "metadata": {
        "id": "MUkZXQRDlm2F"
      },
      "source": [
        "#### Tokenization, Stopwords, Stemming"
      ]
    },
    {
      "cell_type": "code",
      "execution_count": null,
      "metadata": {
        "id": "bdP0-4uVTtZm"
      },
      "outputs": [],
      "source": [
        "# def tokenize(review):\n",
        "#   word_tokens = word_tokenize(review)\n",
        "#   stop_words = set(stopwords.words('indonesian'))\n",
        "#   review = [w for w in word_tokens if not w in stop_words]\n",
        "#   return review\n"
      ]
    },
    {
      "cell_type": "code",
      "execution_count": null,
      "metadata": {
        "id": "dz4OS0bLX75m"
      },
      "outputs": [],
      "source": [
        "# def stemming(review):\n",
        "#   factory = StemmerFactory()\n",
        "#   stemmer = factory.create_stemmer()\n",
        "#   review = stemmer.stem(review)\n",
        "#   return review"
      ]
    },
    {
      "cell_type": "code",
      "execution_count": null,
      "metadata": {
        "id": "yLvjbhrh537h"
      },
      "outputs": [],
      "source": [
        "def tokenize(review):\n",
        "  nstr = review.split(' ')\n",
        "  dat = []\n",
        "  a = -1\n",
        "  for hu in nstr:\n",
        "    a += 1\n",
        "  if hu == \" \":\n",
        "    dat.append(a)\n",
        "  p = 0\n",
        "  q = 0\n",
        "  for q in dat:\n",
        "    b = q - p\n",
        "    del nstr[b]\n",
        "    p += 1\n",
        "  return nstr"
      ]
    },
    {
      "cell_type": "code",
      "execution_count": null,
      "metadata": {
        "id": "T-2anGjA7Qcl"
      },
      "outputs": [],
      "source": [
        "def stopword_removal(review):\n",
        "  filtering = stopwords.words('indonesian')\n",
        "  x = []\n",
        "  data = []\n",
        "  def myFunc(x):\n",
        "    if x in filtering:\n",
        "      return False\n",
        "    else:\n",
        "      return True\n",
        "  fit = filter(myFunc, review)\n",
        "  for x in fit:\n",
        "    data.append(x)\n",
        "  return data"
      ]
    },
    {
      "cell_type": "code",
      "execution_count": null,
      "metadata": {
        "id": "uI3jkOu37HXR"
      },
      "outputs": [],
      "source": [
        "def stemming(review):\n",
        "  factory = StemmerFactory()\n",
        "  stemmer = factory.create_stemmer()\n",
        "  do = []\n",
        "  for w in review:\n",
        "    dt = stemmer.stem(w)\n",
        "    do.append(dt)\n",
        "  d_clean = []\n",
        "  d_clean = \" \".join(do)\n",
        "  print(d_clean)\n",
        "  return d_clean"
      ]
    },
    {
      "cell_type": "markdown",
      "metadata": {
        "id": "A9Wn57S3I50e"
      },
      "source": [
        "## Apply Function to Dataset"
      ]
    },
    {
      "cell_type": "markdown",
      "metadata": {
        "id": "bdvobQNJFOU1"
      },
      "source": [
        "### 1. Kredivo"
      ]
    },
    {
      "cell_type": "code",
      "execution_count": null,
      "metadata": {
        "id": "N_oOEWqeHYkB"
      },
      "outputs": [],
      "source": [
        "con_df_kredivo = load_data_kredivo()\n",
        "con_df_kredivo.head()"
      ]
    },
    {
      "cell_type": "code",
      "execution_count": null,
      "metadata": {
        "id": "rdkbSi9_Hm8K"
      },
      "outputs": [],
      "source": [
        "df_kredivo_prep = pd.DataFrame(con_df_kredivo[['content', 'sentiment']])\n",
        "df_kredivo_prep.head(1)"
      ]
    },
    {
      "cell_type": "code",
      "execution_count": null,
      "metadata": {
        "id": "VLNJkrQ9DuT4"
      },
      "outputs": [],
      "source": [
        "# misal = 'aplikasi payah padahal bayar selalu tepat tidak pernah telat dan akun sudah menjadi premium tapi tiba limit yg besar menjadi nol seketika hilang tidak bisa digunakan aplikasi yang mengecewakan butuh waktu lama untuk menjadi akun dari basic ke premiun setelah jadi premiun malah limit hilang'\n",
        "# token = tokenize(misal)\n",
        "# sr = stopword_removal(token)\n",
        "# stem = stemming(sr)\n",
        "# print(stem)"
      ]
    },
    {
      "cell_type": "code",
      "execution_count": null,
      "metadata": {
        "id": "7AUnpfdHIA8G"
      },
      "outputs": [],
      "source": [
        "df_kredivo_prep['review'] = np.vectorize(remove_pattern)(df_kredivo_prep['content'], \"@[\\w]*\")\n",
        "df_kredivo_prep['review'] = df_kredivo_prep['review'].apply(remove)\n",
        "df_kredivo_prep['review'] = df_kredivo_prep['review'].apply(tokenize)\n",
        "df_kredivo_prep['review'] = df_kredivo_prep['review'].apply(stopword_removal)\n",
        "df_kredivo_prep['review'] = df_kredivo_prep['review'].apply(stemming)"
      ]
    },
    {
      "cell_type": "code",
      "execution_count": null,
      "metadata": {
        "id": "lS-unGSFAPVX"
      },
      "outputs": [],
      "source": [
        "kredivo_clean = df_kredivo_prep[['review', 'sentiment']]\n",
        "kredivo_clean.head(1)"
      ]
    },
    {
      "cell_type": "code",
      "execution_count": null,
      "metadata": {
        "id": "oLg_NB7eIGP_"
      },
      "outputs": [],
      "source": [
        "kredivo_clean.to_csv('kredivo_clean.csv', index = False)"
      ]
    },
    {
      "cell_type": "markdown",
      "metadata": {
        "id": "ZJQ1Zi1sYUeA"
      },
      "source": [
        "### 2. Akulaku"
      ]
    },
    {
      "cell_type": "code",
      "execution_count": null,
      "metadata": {
        "id": "vmwt8YdyYeeR"
      },
      "outputs": [],
      "source": [
        "con_df_akulaku = load_data_akulaku()\n",
        "con_df_akulaku.head()"
      ]
    },
    {
      "cell_type": "code",
      "execution_count": null,
      "metadata": {
        "id": "dYWboYmuYh4C"
      },
      "outputs": [],
      "source": [
        "df_akulaku_prep = pd.DataFrame(con_df_akulaku[['content', 'sentiment']])\n",
        "df_akulaku_prep.head()"
      ]
    },
    {
      "cell_type": "code",
      "execution_count": null,
      "metadata": {
        "id": "AnXaAb20JhPG"
      },
      "outputs": [],
      "source": [
        "df_akulaku_prep['review'] = np.vectorize(remove_pattern)(df_akulaku_prep['content'], \"@[\\w]*\")\n",
        "df_akulaku_prep['review'] = df_akulaku_prep['review'].apply(remove)\n",
        "df_akulaku_prep['review'] = df_akulaku_prep['review'].apply(tokenize)\n",
        "df_akulaku_prep['review'] = df_akulaku_prep['review'].apply(stopword_removal)\n",
        "df_akulaku_prep['review'] = df_akulaku_prep['review'].apply(stemming)"
      ]
    },
    {
      "cell_type": "code",
      "execution_count": null,
      "metadata": {
        "id": "rTJzRv7CiQ-X"
      },
      "outputs": [],
      "source": [
        "akulaku_clean = df_akulaku_prep[['review', 'sentiment']]\n",
        "akulaku_clean.head"
      ]
    },
    {
      "cell_type": "code",
      "execution_count": null,
      "metadata": {
        "id": "DF03LQ5bJ027"
      },
      "outputs": [],
      "source": [
        "akulaku_clean.to_csv('akulaku_clean.csv', index = False)"
      ]
    },
    {
      "cell_type": "markdown",
      "metadata": {
        "id": "hxP8caUrhFAW"
      },
      "source": [
        "### 3. Indodana"
      ]
    },
    {
      "cell_type": "code",
      "execution_count": null,
      "metadata": {
        "id": "WMdHc2R3hJP8"
      },
      "outputs": [],
      "source": [
        "con_df_indodana = load_data_indodana()\n",
        "con_df_indodana.head()"
      ]
    },
    {
      "cell_type": "code",
      "execution_count": null,
      "metadata": {
        "id": "-6uwhLSxhQwm"
      },
      "outputs": [],
      "source": [
        "df_indodana_prep = pd.DataFrame(con_df_indodana[['content', 'sentiment']])\n",
        "df_indodana_prep.head()"
      ]
    },
    {
      "cell_type": "code",
      "execution_count": null,
      "metadata": {
        "id": "qGlK2wCNKCCd"
      },
      "outputs": [],
      "source": [
        "df_indodana_prep['review'] = np.vectorize(remove_pattern)(df_indodana_prep['content'], \"@[\\w]*\")\n",
        "df_indodana_prep['review'] = df_indodana_prep['review'].apply(remove)\n",
        "df_indodana_prep['review'] = df_indodana_prep['review'].apply(tokenize)\n",
        "df_indodana_prep['review'] = df_indodana_prep['review'].apply(stopword_removal)\n",
        "df_indodana_prep['review'] = df_indodana_prep['review'].apply(stemming)"
      ]
    },
    {
      "cell_type": "code",
      "execution_count": null,
      "metadata": {
        "id": "HZ0vA7VQK6A0"
      },
      "outputs": [],
      "source": [
        "indodana_clean = df_indodana_prep[['review', 'sentiment']]\n",
        "indodana_clean.head"
      ]
    },
    {
      "cell_type": "code",
      "execution_count": null,
      "metadata": {
        "id": "wfLvclXiLDyn"
      },
      "outputs": [],
      "source": [
        "indodana_clean.to_csv('indodana_clean.csv', index = False)"
      ]
    },
    {
      "cell_type": "markdown",
      "metadata": {
        "id": "T8TFJeWJYhx9"
      },
      "source": [
        "## Kredivo Process"
      ]
    },
    {
      "cell_type": "markdown",
      "metadata": {
        "id": "2C7qJBD4IJkj"
      },
      "source": [
        "#### Train, Test, Split and TF-IDF"
      ]
    },
    {
      "cell_type": "code",
      "execution_count": null,
      "metadata": {
        "id": "wGqz74CeYgQS"
      },
      "outputs": [],
      "source": [
        "data_kredivo = pd.read_csv('kredivo_clean.csv')\n",
        "data_kredivo.head()"
      ]
    },
    {
      "cell_type": "code",
      "execution_count": null,
      "metadata": {
        "id": "QGzt3FrRnHrh"
      },
      "outputs": [],
      "source": [
        "print(len(data_kredivo))"
      ]
    },
    {
      "cell_type": "code",
      "execution_count": null,
      "metadata": {
        "id": "u_xsO89vYCcI"
      },
      "outputs": [],
      "source": [
        "data_kredivo = data_kredivo.astype({'sentiment' : 'category'})\n",
        "data_kredivo = data_kredivo.astype({'review' : 'string'})\n",
        "data_kredivo.dropna(inplace = True)\n",
        "data_kredivo.dtypes"
      ]
    },
    {
      "cell_type": "code",
      "execution_count": null,
      "metadata": {
        "id": "3DTIUyLjrWlo"
      },
      "outputs": [],
      "source": [
        "col = data_kredivo['sentiment']\n",
        "data_kredivo.pop('sentiment')\n",
        "data_kredivo.insert(data_kredivo.columns.get_loc('review')+1, col.name, col, allow_duplicates = True)"
      ]
    },
    {
      "cell_type": "code",
      "execution_count": null,
      "metadata": {
        "id": "3uDROMkJsVuP"
      },
      "outputs": [],
      "source": [
        "from sklearn.model_selection import train_test_split\n",
        "\n",
        "X1 = data_kredivo['review']\n",
        "y1 = data_kredivo['sentiment']\n",
        "\n",
        "X_train, X_test, y_train, y_test = train_test_split(X1, y1, test_size = 0.1, random_state = 42)\n",
        "print(f'Total data train: {X_train.shape[0]}')\n",
        "print(f'Total data test: {X_test.shape[0]}')"
      ]
    },
    {
      "cell_type": "code",
      "execution_count": null,
      "metadata": {
        "id": "juy8u3svs7p5"
      },
      "outputs": [],
      "source": [
        "from sklearn.preprocessing import LabelEncoder\n",
        "\n",
        "le = LabelEncoder()\n",
        "y_train = le.fit_transform(y_train)\n",
        "y_test = le.fit_transform(y_test)"
      ]
    },
    {
      "cell_type": "code",
      "execution_count": null,
      "metadata": {
        "id": "WFvgGJ1_tOO-"
      },
      "outputs": [],
      "source": [
        "from sklearn.feature_extraction.text import TfidfVectorizer\n",
        "\n",
        "def vectorize(X_train, X_test):\n",
        "  vectorizer = TfidfVectorizer()\n",
        "  X_train = vectorizer.fit_transform(X_train)\n",
        "  X_test = vectorizer.transform(X_test)\n",
        "  return X_train, X_test, vectorizer"
      ]
    },
    {
      "cell_type": "code",
      "execution_count": null,
      "metadata": {
        "id": "bNybngoftvwq"
      },
      "outputs": [],
      "source": [
        "X_train, X_test, vectorizer = vectorize(X_train, X_test)\n",
        "temp_df = pd.DataFrame(X_train.todense(), columns = vectorizer.get_feature_names_out())\n",
        "temp_df"
      ]
    },
    {
      "cell_type": "markdown",
      "metadata": {
        "id": "WK6smkV7j762"
      },
      "source": [
        "#### SVM with rbf Kernel (Kredivo)"
      ]
    },
    {
      "cell_type": "code",
      "execution_count": null,
      "metadata": {
        "id": "R4K2WyGBj7N7"
      },
      "outputs": [],
      "source": [
        "from sklearn import svm\n",
        "from sklearn.metrics import classification_report, confusion_matrix\n",
        "from sklearn.svm import SVC\n",
        "\n",
        "suvm = SVC(kernel = 'rbf', probability = True)\n",
        "suvm.fit(X_train, y_train)\n",
        "\n",
        "y_pred_svm = suvm.predict(X_test)\n",
        "y_pred_svm_prob = suvm.predict_proba(X_test)\n",
        "\n",
        "print('===================================================')\n",
        "print(confusion_matrix(y_test, y_pred_svm))\n",
        "print('===================================================\\n')\n",
        "print(classification_report(y_test, y_pred_svm))"
      ]
    },
    {
      "cell_type": "code",
      "execution_count": null,
      "metadata": {
        "id": "GLV47dH225Us"
      },
      "outputs": [],
      "source": [
        "from sklearn.metrics import precision_score, recall_score, f1_score, accuracy_score\n",
        "\n",
        "precision_svm = round(precision_score(y_test, y_pred_svm), 2)\n",
        "recall_svm = round(recall_score(y_test, y_pred_svm), 2)\n",
        "f1_svm = round(f1_score(y_test, y_pred_svm), 2)\n",
        "accuracy_svm = round(accuracy_score(y_test, y_pred_svm), 2)\n",
        "\n",
        "# Menampilkan metrik-metrik\n",
        "print(\"Precision:\", precision_svm)\n",
        "print(\"Recall:\", recall_svm)\n",
        "print(\"F1-score:\", f1_svm)\n",
        "print(\"Accuracy:\", accuracy_svm)"
      ]
    },
    {
      "cell_type": "code",
      "execution_count": null,
      "metadata": {
        "id": "2IX__RK27SHz"
      },
      "outputs": [],
      "source": [
        "import matplotlib.pyplot as plt\n",
        "\n",
        "# Daftar metrik dan nilai-nilainya\n",
        "metrics = ['Precision', 'Recall', 'F1-score', 'Accuracy']\n",
        "values = [precision_svm, recall_svm, f1_svm, accuracy_svm]\n",
        "\n",
        "# Membuat grafik bar plot\n",
        "plt.bar(metrics, values)\n",
        "\n",
        "# Menambahkan label pada sumbu x dan y\n",
        "plt.xlabel('Metrics')\n",
        "plt.ylabel('Values')\n",
        "\n",
        "# Menambahkan judul grafik\n",
        "plt.title('Performance Metrics SVM')\n",
        "\n",
        "# Menampilkan grafik\n",
        "plt.show()"
      ]
    },
    {
      "cell_type": "markdown",
      "metadata": {
        "id": "9G5vp5MFdr2n"
      },
      "source": [
        "#### KNN (Kredivo)"
      ]
    },
    {
      "cell_type": "code",
      "execution_count": null,
      "metadata": {
        "id": "N5ITCCtkdnH1"
      },
      "outputs": [],
      "source": [
        "from sklearn.neighbors import KNeighborsClassifier\n",
        "\n",
        "knn = KNeighborsClassifier()\n",
        "knn.fit(X_train, y_train)\n",
        "\n",
        "y_pred_knn = knn.predict(X_test)\n",
        "y_pred_knn_prob = knn.predict_proba(X_test)\n",
        "\n",
        "print('===================================================')\n",
        "print(confusion_matrix(y_test, y_pred_knn))\n",
        "print('===================================================\\n')\n",
        "print(classification_report(y_test, y_pred_knn))"
      ]
    },
    {
      "cell_type": "code",
      "execution_count": null,
      "metadata": {
        "id": "G2ZVr7Np9AkG"
      },
      "outputs": [],
      "source": [
        "from sklearn.metrics import precision_score, recall_score, f1_score, accuracy_score\n",
        "\n",
        "precision_knn = round(precision_score(y_test, y_pred_knn), 2)\n",
        "recall_knn = round(recall_score(y_test, y_pred_knn), 2)\n",
        "f1_knn = round(f1_score(y_test, y_pred_knn), 2)\n",
        "accuracy_knn = round(accuracy_score(y_test, y_pred_knn), 2)\n",
        "\n",
        "# Menampilkan metrik-metrik\n",
        "print(\"Precision:\", precision_knn)\n",
        "print(\"Recall:\", recall_knn)\n",
        "print(\"F1-score:\", f1_knn)\n",
        "print(\"Accuracy:\", accuracy_knn)"
      ]
    },
    {
      "cell_type": "code",
      "execution_count": null,
      "metadata": {
        "id": "OtZWDZ6x-SV1"
      },
      "outputs": [],
      "source": [
        "import matplotlib.pyplot as plt\n",
        "\n",
        "# Daftar metrik dan nilai-nilainya\n",
        "metrics = ['Precision', 'Recall', 'F1-score', 'Accuracy']\n",
        "values = [precision_knn, recall_knn, f1_knn, accuracy_knn]\n",
        "\n",
        "# Membuat grafik bar plot\n",
        "plt.bar(metrics, values)\n",
        "\n",
        "# Menambahkan label pada sumbu x dan y\n",
        "plt.xlabel('Metrics')\n",
        "plt.ylabel('Values')\n",
        "\n",
        "# Menambahkan judul grafik\n",
        "plt.title('Performance Metrics KNN')\n",
        "\n",
        "# Menampilkan grafik\n",
        "plt.show()"
      ]
    },
    {
      "cell_type": "markdown",
      "metadata": {
        "id": "n8yo7IXadvRc"
      },
      "source": [
        "#### Naive Bayes (Kredivo)"
      ]
    },
    {
      "cell_type": "code",
      "execution_count": null,
      "metadata": {
        "id": "bVY-Kz8Xdp8V"
      },
      "outputs": [],
      "source": [
        "from sklearn.naive_bayes import MultinomialNB\n",
        "\n",
        "nb = MultinomialNB().fit(X_train, y_train)\n",
        "y_pred_nb = nb.predict(X_test)\n",
        "\n",
        "print('===================================================')\n",
        "print(confusion_matrix(y_test, y_pred_nb))\n",
        "print('===================================================\\n')\n",
        "print(classification_report(y_test, y_pred_nb))"
      ]
    },
    {
      "cell_type": "code",
      "execution_count": null,
      "metadata": {
        "id": "sg_nGyXr_I4i"
      },
      "outputs": [],
      "source": [
        "from sklearn.metrics import precision_score, recall_score, f1_score, accuracy_score\n",
        "\n",
        "precision_nb = round(precision_score(y_test, y_pred_nb), 2)\n",
        "recall_nb = round(recall_score(y_test, y_pred_nb), 2)\n",
        "f1_nb = round(f1_score(y_test, y_pred_nb), 2)\n",
        "accuracy_nb = round(accuracy_score(y_test, y_pred_nb), 2)\n",
        "\n",
        "# Menampilkan metrik-metrik\n",
        "print(\"Precision:\", precision_nb)\n",
        "print(\"Recall:\", recall_nb)\n",
        "print(\"F1-score:\", f1_nb)\n",
        "print(\"Accuracy:\", accuracy_nb)"
      ]
    },
    {
      "cell_type": "code",
      "execution_count": null,
      "metadata": {
        "id": "gIc6mCtl_b7p"
      },
      "outputs": [],
      "source": [
        "import matplotlib.pyplot as plt\n",
        "\n",
        "# Daftar metrik dan nilai-nilainya\n",
        "metrics = ['Precision', 'Recall', 'F1-score', 'Accuracy']\n",
        "values = [precision_nb, recall_nb, f1_nb, accuracy_nb]\n",
        "\n",
        "# Membuat grafik bar plot\n",
        "plt.bar(metrics, values)\n",
        "\n",
        "# Menambahkan label pada sumbu x dan y\n",
        "plt.xlabel('Metrics')\n",
        "plt.ylabel('Values')\n",
        "\n",
        "# Menambahkan judul grafik\n",
        "plt.title('Performance Metrics NB')\n",
        "\n",
        "# Menampilkan grafik\n",
        "plt.show()"
      ]
    },
    {
      "cell_type": "markdown",
      "metadata": {
        "id": "Sguvt1yIcq7z"
      },
      "source": [
        "## Akulaku Process"
      ]
    },
    {
      "cell_type": "markdown",
      "metadata": {
        "id": "WyzWF6L2ITi4"
      },
      "source": [
        "#### Train, Test, Split and TF-IDF"
      ]
    },
    {
      "cell_type": "code",
      "execution_count": null,
      "metadata": {
        "id": "CapE4e5Acxya"
      },
      "outputs": [],
      "source": [
        "data_akulaku = pd.read_csv('akulaku_clean.csv')\n",
        "data_akulaku.head()"
      ]
    },
    {
      "cell_type": "code",
      "execution_count": null,
      "metadata": {
        "id": "ABNemOqIdP_D"
      },
      "outputs": [],
      "source": [
        "print(len(data_akulaku))"
      ]
    },
    {
      "cell_type": "code",
      "execution_count": null,
      "metadata": {
        "id": "bMbcZBeodBUa"
      },
      "outputs": [],
      "source": [
        "data_akulaku = data_akulaku.astype({'sentiment' : 'category'})\n",
        "data_akulaku = data_akulaku.astype({'review' : 'string'})\n",
        "data_akulaku.dropna(inplace = True)\n",
        "data_akulaku.dtypes"
      ]
    },
    {
      "cell_type": "code",
      "execution_count": null,
      "metadata": {
        "id": "xx4i-zHlpW5p"
      },
      "outputs": [],
      "source": [
        "col = data_akulaku['sentiment']\n",
        "data_akulaku.pop('sentiment')\n",
        "data_akulaku.insert(data_akulaku.columns.get_loc('review')+1, col.name, col, allow_duplicates = True)"
      ]
    },
    {
      "cell_type": "code",
      "execution_count": null,
      "metadata": {
        "id": "wzjVLpzrpjHX"
      },
      "outputs": [],
      "source": [
        "from sklearn.model_selection import train_test_split\n",
        "\n",
        "X1 = data_akulaku['review']\n",
        "y1 = data_akulaku['sentiment']\n",
        "\n",
        "X_train, X_test, y_train, y_test = train_test_split(X1, y1, test_size = 0.1, random_state = 42)\n",
        "print(f'Total data train: {X_train.shape[0]}')\n",
        "print(f'Total data test: {X_test.shape[0]}')"
      ]
    },
    {
      "cell_type": "code",
      "execution_count": null,
      "metadata": {
        "id": "AYLdSy0p2fQc"
      },
      "outputs": [],
      "source": [
        "from google.colab import drive\n",
        "drive.mount('/content/drive')"
      ]
    },
    {
      "cell_type": "code",
      "execution_count": null,
      "metadata": {
        "id": "Hv3bOJDg2iSr"
      },
      "outputs": [],
      "source": []
    },
    {
      "cell_type": "code",
      "execution_count": null,
      "metadata": {
        "id": "gvkodivqqtBM"
      },
      "outputs": [],
      "source": [
        "from sklearn.preprocessing import LabelEncoder\n",
        "\n",
        "le = LabelEncoder()\n",
        "y_train = le.fit_transform(y_train)\n",
        "y_test = le.fit_transform(y_test)"
      ]
    },
    {
      "cell_type": "code",
      "execution_count": null,
      "metadata": {
        "id": "b15zFHDrq2Bi"
      },
      "outputs": [],
      "source": [
        "X_train, X_test, vectorizer = vectorize(X_train, X_test)\n",
        "temp_df = pd.DataFrame(X_train.todense(), columns = vectorizer.get_feature_names_out())\n",
        "temp_df"
      ]
    },
    {
      "cell_type": "markdown",
      "metadata": {
        "id": "0FtUfeppIZA9"
      },
      "source": [
        "#### SVM with rbf kernel (Akulaku)"
      ]
    },
    {
      "cell_type": "code",
      "execution_count": null,
      "metadata": {
        "id": "j1HaQVOZIeRl"
      },
      "outputs": [],
      "source": [
        "from sklearn import svm\n",
        "from sklearn.metrics import classification_report, confusion_matrix\n",
        "from sklearn.svm import SVC\n",
        "\n",
        "suvm = SVC(kernel = 'rbf', probability = True)\n",
        "suvm.fit(X_train, y_train)\n",
        "\n",
        "y_pred_svm = suvm.predict(X_test)\n",
        "y_pred_svm_prob = suvm.predict_proba(X_test)\n",
        "\n",
        "print('===================================================')\n",
        "print(confusion_matrix(y_test, y_pred_svm))\n",
        "print('===================================================\\n')\n",
        "print(classification_report(y_test, y_pred_svm))"
      ]
    },
    {
      "cell_type": "code",
      "execution_count": null,
      "metadata": {
        "id": "ttoQbnFiEIel"
      },
      "outputs": [],
      "source": [
        "from sklearn.metrics import precision_score, recall_score, f1_score, accuracy_score\n",
        "\n",
        "precision_svm = round(precision_score(y_test, y_pred_svm), 2)\n",
        "recall_svm = round(recall_score(y_test, y_pred_svm), 2)\n",
        "f1_svm = round(f1_score(y_test, y_pred_svm), 2)\n",
        "accuracy_svm = round(accuracy_score(y_test, y_pred_svm), 2)\n",
        "\n",
        "# Menampilkan metrik-metrik\n",
        "print(\"Precision:\", precision_svm)\n",
        "print(\"Recall:\", recall_svm)\n",
        "print(\"F1-score:\", f1_svm)\n",
        "print(\"Accuracy:\", accuracy_svm)"
      ]
    },
    {
      "cell_type": "code",
      "execution_count": null,
      "metadata": {
        "id": "UNxxN3iTGCmz"
      },
      "outputs": [],
      "source": [
        "import matplotlib.pyplot as plt\n",
        "\n",
        "# Daftar metrik dan nilai-nilainya\n",
        "metrics = ['Precision', 'Recall', 'F1-score', 'Accuracy']\n",
        "values = [precision_svm, recall_svm, f1_svm, accuracy_svm]\n",
        "\n",
        "# Membuat grafik bar plot\n",
        "plt.bar(metrics, values)\n",
        "\n",
        "# Menambahkan label pada sumbu x dan y\n",
        "plt.xlabel('Metrics')\n",
        "plt.ylabel('Values')\n",
        "\n",
        "# Menambahkan judul grafik\n",
        "plt.title('Performance Metrics SVM')\n",
        "\n",
        "# Menampilkan grafik\n",
        "plt.show()"
      ]
    },
    {
      "cell_type": "markdown",
      "metadata": {
        "id": "tEgBveYJYNWi"
      },
      "source": [
        "#### KNN (Akulaku)"
      ]
    },
    {
      "cell_type": "code",
      "execution_count": null,
      "metadata": {
        "id": "obHRTcleYMD1"
      },
      "outputs": [],
      "source": [
        "from sklearn.neighbors import KNeighborsClassifier\n",
        "\n",
        "knn = KNeighborsClassifier()\n",
        "knn.fit(X_train, y_train)\n",
        "\n",
        "y_pred_knn = knn.predict(X_test)\n",
        "y_pred_knn_prob = knn.predict_proba(X_test)\n",
        "\n",
        "print('===================================================')\n",
        "print(confusion_matrix(y_test, y_pred_knn))\n",
        "print('===================================================\\n')\n",
        "print(classification_report(y_test, y_pred_knn))"
      ]
    },
    {
      "cell_type": "code",
      "execution_count": null,
      "metadata": {
        "id": "GdsM9uovGOj9"
      },
      "outputs": [],
      "source": [
        "from sklearn.metrics import precision_score, recall_score, f1_score, accuracy_score\n",
        "\n",
        "precision_knn = round(precision_score(y_test, y_pred_knn), 2)\n",
        "recall_knn = round(recall_score(y_test, y_pred_knn), 2)\n",
        "f1_knn = round(f1_score(y_test, y_pred_knn), 2)\n",
        "accuracy_knn = round(accuracy_score(y_test, y_pred_knn), 2)\n",
        "\n",
        "# Menampilkan metrik-metrik\n",
        "print(\"Precision:\", precision_knn)\n",
        "print(\"Recall:\", recall_knn)\n",
        "print(\"F1-score:\", f1_knn)\n",
        "print(\"Accuracy:\", accuracy_knn)"
      ]
    },
    {
      "cell_type": "code",
      "execution_count": null,
      "metadata": {
        "id": "hG-GySdgGdUM"
      },
      "outputs": [],
      "source": [
        "import matplotlib.pyplot as plt\n",
        "\n",
        "# Daftar metrik dan nilai-nilainya\n",
        "metrics = ['Precision', 'Recall', 'F1-score', 'Accuracy']\n",
        "values = [precision_knn, recall_knn, f1_knn, accuracy_knn]\n",
        "\n",
        "# Membuat grafik bar plot\n",
        "plt.bar(metrics, values)\n",
        "\n",
        "# Menambahkan label pada sumbu x dan y\n",
        "plt.xlabel('Metrics')\n",
        "plt.ylabel('Values')\n",
        "\n",
        "# Menambahkan judul grafik\n",
        "plt.title('Performance Metrics KNN')\n",
        "\n",
        "# Menampilkan grafik\n",
        "plt.show()"
      ]
    },
    {
      "cell_type": "markdown",
      "metadata": {
        "id": "qXz4jvwHYtIk"
      },
      "source": [
        "#### Naive Bayes (Akulaku)"
      ]
    },
    {
      "cell_type": "code",
      "execution_count": null,
      "metadata": {
        "id": "m5KtJ0VFb5bu"
      },
      "outputs": [],
      "source": [
        "from sklearn.naive_bayes import MultinomialNB\n",
        "\n",
        "nb = MultinomialNB().fit(X_train, y_train)\n",
        "y_pred_nb = nb.predict(X_test)\n",
        "\n",
        "print('===================================================')\n",
        "print(confusion_matrix(y_test, y_pred_nb))\n",
        "print('===================================================\\n')\n",
        "print(classification_report(y_test, y_pred_nb))"
      ]
    },
    {
      "cell_type": "code",
      "execution_count": null,
      "metadata": {
        "id": "vwjyQjcuG19P"
      },
      "outputs": [],
      "source": [
        "from sklearn.metrics import precision_score, recall_score, f1_score, accuracy_score\n",
        "\n",
        "precision_nb = round(precision_score(y_test, y_pred_nb), 2)\n",
        "recall_nb = round(recall_score(y_test, y_pred_nb), 2)\n",
        "f1_nb = round(f1_score(y_test, y_pred_nb), 2)\n",
        "accuracy_nb = round(accuracy_score(y_test, y_pred_nb), 2)\n",
        "\n",
        "# Menampilkan metrik-metrik\n",
        "print(\"Precision:\", precision_nb)\n",
        "print(\"Recall:\", recall_nb)\n",
        "print(\"F1-score:\", f1_nb)\n",
        "print(\"Accuracy:\", accuracy_nb)"
      ]
    },
    {
      "cell_type": "code",
      "execution_count": null,
      "metadata": {
        "id": "OXFHw2BCG_0w"
      },
      "outputs": [],
      "source": [
        "import matplotlib.pyplot as plt\n",
        "\n",
        "# Daftar metrik dan nilai-nilainya\n",
        "metrics = ['Precision', 'Recall', 'F1-score', 'Accuracy']\n",
        "values = [precision_nb, recall_nb, f1_nb, accuracy_nb]\n",
        "\n",
        "# Membuat grafik bar plot\n",
        "plt.bar(metrics, values)\n",
        "\n",
        "# Menambahkan label pada sumbu x dan y\n",
        "plt.xlabel('Metrics')\n",
        "plt.ylabel('Values')\n",
        "\n",
        "# Menambahkan judul grafik\n",
        "plt.title('Performance Metrics NB')\n",
        "\n",
        "# Menampilkan grafik\n",
        "plt.show()"
      ]
    },
    {
      "cell_type": "markdown",
      "metadata": {
        "id": "SdHYhwGdLlS4"
      },
      "source": [
        "## Indodana Process"
      ]
    },
    {
      "cell_type": "markdown",
      "metadata": {
        "id": "aG6fax89dGDg"
      },
      "source": [
        "#### Train, Test, Split and TF-IDF"
      ]
    },
    {
      "cell_type": "code",
      "execution_count": null,
      "metadata": {
        "id": "1p-7Y0VlLnz9"
      },
      "outputs": [],
      "source": [
        "data_indodana = pd.read_csv('indodana_clean.csv')\n",
        "data_indodana.head()"
      ]
    },
    {
      "cell_type": "code",
      "execution_count": null,
      "metadata": {
        "id": "0LAOAFBwMZev"
      },
      "outputs": [],
      "source": [
        "print(len(data_indodana))"
      ]
    },
    {
      "cell_type": "code",
      "execution_count": null,
      "metadata": {
        "id": "QyIuBDWGMeds"
      },
      "outputs": [],
      "source": [
        "data_indodana = data_indodana.astype({'sentiment' : 'category'})\n",
        "data_indodana = data_indodana.astype({'review' : 'string'})\n",
        "data_indodana.dropna(inplace = True)\n",
        "data_indodana.dtypes"
      ]
    },
    {
      "cell_type": "code",
      "execution_count": null,
      "metadata": {
        "id": "8-s7NTcdMtNE"
      },
      "outputs": [],
      "source": [
        "col = data_indodana['sentiment']\n",
        "data_indodana.pop('sentiment')\n",
        "data_indodana.insert(data_indodana.columns.get_loc('review')+1, col.name, col, allow_duplicates = True)"
      ]
    },
    {
      "cell_type": "code",
      "execution_count": null,
      "metadata": {
        "id": "yKzWkj4uM2dm"
      },
      "outputs": [],
      "source": [
        "from sklearn.model_selection import train_test_split\n",
        "\n",
        "X1 = data_indodana['review']\n",
        "y1 = data_indodana['sentiment']\n",
        "\n",
        "X_train, X_test, y_train, y_test = train_test_split(X1, y1, test_size = 0.1, random_state = 42)\n",
        "print(f'Total data train: {X_train.shape[0]}')\n",
        "print(f'Total data test: {X_test.shape[0]}')"
      ]
    },
    {
      "cell_type": "code",
      "execution_count": null,
      "metadata": {
        "id": "wExATh6HNCA6"
      },
      "outputs": [],
      "source": [
        "from sklearn.preprocessing import LabelEncoder\n",
        "\n",
        "le = LabelEncoder()\n",
        "y_train = le.fit_transform(y_train)\n",
        "y_test = le.fit_transform(y_test)"
      ]
    },
    {
      "cell_type": "code",
      "execution_count": null,
      "metadata": {
        "id": "o7Y3RKxfNjtx"
      },
      "outputs": [],
      "source": [
        "X_train, X_test, vectorizer = vectorize(X_train, X_test)\n",
        "temp_df = pd.DataFrame(X_train.todense(), columns = vectorizer.get_feature_names_out())\n",
        "temp_df"
      ]
    },
    {
      "cell_type": "markdown",
      "metadata": {
        "id": "zvFSaTOetG_v"
      },
      "source": [
        "#### SVM with rbf kernel (Indodana)"
      ]
    },
    {
      "cell_type": "code",
      "execution_count": null,
      "metadata": {
        "id": "OEPI8G0KtLMY"
      },
      "outputs": [],
      "source": [
        "from sklearn import svm\n",
        "from sklearn.metrics import classification_report, confusion_matrix\n",
        "from sklearn.svm import SVC\n",
        "\n",
        "suvm = SVC(kernel = 'rbf', probability = True)\n",
        "suvm.fit(X_train, y_train)\n",
        "\n",
        "y_pred_svm = suvm.predict(X_test)\n",
        "y_pred_svm_prob = suvm.predict_proba(X_test)\n",
        "\n",
        "print('===================================================')\n",
        "print(confusion_matrix(y_test, y_pred_svm))\n",
        "print('===================================================\\n')\n",
        "print(classification_report(y_test, y_pred_svm))"
      ]
    },
    {
      "cell_type": "code",
      "execution_count": null,
      "metadata": {
        "id": "c7CrhNzfJ3FU"
      },
      "outputs": [],
      "source": [
        "from sklearn.metrics import precision_score, recall_score, f1_score, accuracy_score\n",
        "\n",
        "precision_svm = round(precision_score(y_test, y_pred_svm), 2)\n",
        "recall_svm = round(recall_score(y_test, y_pred_svm), 2)\n",
        "f1_svm = round(f1_score(y_test, y_pred_svm), 2)\n",
        "accuracy_svm = round(accuracy_score(y_test, y_pred_svm), 2)\n",
        "\n",
        "# Menampilkan metrik-metrik\n",
        "print(\"Precision:\", precision_svm)\n",
        "print(\"Recall:\", recall_svm)\n",
        "print(\"F1-score:\", f1_svm)\n",
        "print(\"Accuracy:\", accuracy_svm)"
      ]
    },
    {
      "cell_type": "code",
      "execution_count": null,
      "metadata": {
        "id": "mUpkwt3FJ2l_"
      },
      "outputs": [],
      "source": [
        "import matplotlib.pyplot as plt\n",
        "\n",
        "# Daftar metrik dan nilai-nilainya\n",
        "metrics = ['Precision', 'Recall', 'F1-score', 'Accuracy']\n",
        "values = [precision_svm, recall_svm, f1_svm, accuracy_svm]\n",
        "\n",
        "# Membuat grafik bar plot\n",
        "plt.bar(metrics, values)\n",
        "\n",
        "# Menambahkan label pada sumbu x dan y\n",
        "plt.xlabel('Metrics')\n",
        "plt.ylabel('Values')\n",
        "\n",
        "# Menambahkan judul grafik\n",
        "plt.title('Performance Metrics SVM')\n",
        "\n",
        "# Menampilkan grafik\n",
        "plt.show()"
      ]
    },
    {
      "cell_type": "markdown",
      "metadata": {
        "id": "_6nGE-54eEEz"
      },
      "source": [
        "#### KNN (Indodana)"
      ]
    },
    {
      "cell_type": "code",
      "execution_count": null,
      "metadata": {
        "id": "JkK5jcOZd71B"
      },
      "outputs": [],
      "source": [
        "from sklearn.neighbors import KNeighborsClassifier\n",
        "\n",
        "knn = KNeighborsClassifier()\n",
        "knn.fit(X_train, y_train)\n",
        "\n",
        "y_pred_knn = knn.predict(X_test)\n",
        "y_pred_knn_prob = knn.predict_proba(X_test)\n",
        "\n",
        "print('===================================================')\n",
        "print(confusion_matrix(y_test, y_pred_knn))\n",
        "print('===================================================\\n')\n",
        "print(classification_report(y_test, y_pred_knn))"
      ]
    },
    {
      "cell_type": "code",
      "execution_count": null,
      "metadata": {
        "id": "MmkEyQrXJlBc"
      },
      "outputs": [],
      "source": [
        "from sklearn.metrics import precision_score, recall_score, f1_score, accuracy_score\n",
        "\n",
        "precision_knn = round(precision_score(y_test, y_pred_knn), 2)\n",
        "recall_knn = round(recall_score(y_test, y_pred_knn), 2)\n",
        "f1_knn = round(f1_score(y_test, y_pred_knn), 2)\n",
        "accuracy_knn = round(accuracy_score(y_test, y_pred_knn), 2)\n",
        "\n",
        "# Menampilkan metrik-metrik\n",
        "print(\"Precision:\", precision_knn)\n",
        "print(\"Recall:\", recall_knn)\n",
        "print(\"F1-score:\", f1_knn)\n",
        "print(\"Accuracy:\", accuracy_knn)"
      ]
    },
    {
      "cell_type": "code",
      "execution_count": null,
      "metadata": {
        "id": "auUymQcAHJY3"
      },
      "outputs": [],
      "source": [
        "import matplotlib.pyplot as plt\n",
        "\n",
        "# Daftar metrik dan nilai-nilainya\n",
        "metrics = ['Precision', 'Recall', 'F1-score', 'Accuracy']\n",
        "values = [precision_knn, recall_knn, f1_knn, accuracy_knn]\n",
        "\n",
        "# Membuat grafik bar plot\n",
        "plt.bar(metrics, values)\n",
        "\n",
        "# Menambahkan label pada sumbu x dan y\n",
        "plt.xlabel('Metrics')\n",
        "plt.ylabel('Values')\n",
        "\n",
        "# Menambahkan judul grafik\n",
        "plt.title('Performance Metrics KNN')\n",
        "\n",
        "# Menampilkan grafik\n",
        "plt.show()"
      ]
    },
    {
      "cell_type": "markdown",
      "metadata": {
        "id": "J7BnkOD8eAew"
      },
      "source": [
        "#### Naive Bayes (Indodana)"
      ]
    },
    {
      "cell_type": "code",
      "execution_count": null,
      "metadata": {
        "id": "bfnt1ozGd_op"
      },
      "outputs": [],
      "source": [
        "from sklearn.naive_bayes import MultinomialNB\n",
        "\n",
        "nb = MultinomialNB().fit(X_train, y_train)\n",
        "y_pred_nb = nb.predict(X_test)\n",
        "\n",
        "print('===================================================')\n",
        "print(confusion_matrix(y_test, y_pred_nb))\n",
        "print('===================================================\\n')\n",
        "print(classification_report(y_test, y_pred_nb))"
      ]
    },
    {
      "cell_type": "code",
      "execution_count": null,
      "metadata": {
        "id": "bP3M23vrHGHN"
      },
      "outputs": [],
      "source": [
        "from sklearn.metrics import precision_score, recall_score, f1_score, accuracy_score\n",
        "\n",
        "precision_nb = round(precision_score(y_test, y_pred_nb), 2)\n",
        "recall_nb = round(recall_score(y_test, y_pred_nb), 2)\n",
        "f1_nb = round(f1_score(y_test, y_pred_nb), 2)\n",
        "accuracy_nb = round(accuracy_score(y_test, y_pred_nb), 2)\n",
        "\n",
        "# Menampilkan metrik-metrik\n",
        "print(\"Precision:\", precision_nb)\n",
        "print(\"Recall:\", recall_nb)\n",
        "print(\"F1-score:\", f1_nb)\n",
        "print(\"Accuracy:\", accuracy_nb)"
      ]
    },
    {
      "cell_type": "code",
      "execution_count": null,
      "metadata": {
        "id": "JBZ42USKHFiS"
      },
      "outputs": [],
      "source": [
        "import matplotlib.pyplot as plt\n",
        "\n",
        "# Daftar metrik dan nilai-nilainya\n",
        "metrics = ['Precision', 'Recall', 'F1-score', 'Accuracy']\n",
        "values = [precision_nb, recall_nb, f1_nb, accuracy_nb]\n",
        "\n",
        "# Membuat grafik bar plot\n",
        "plt.bar(metrics, values)\n",
        "\n",
        "# Menambahkan label pada sumbu x dan y\n",
        "plt.xlabel('Metrics')\n",
        "plt.ylabel('Values')\n",
        "\n",
        "# Menambahkan judul grafik\n",
        "plt.title('Performance Metrics NB')\n",
        "\n",
        "# Menampilkan grafik\n",
        "plt.show()"
      ]
    }
  ],
  "metadata": {
    "colab": {
      "collapsed_sections": [
        "_cximkjiwaxM",
        "VDczheBEwkro",
        "LWCsSSTcxDGX",
        "7DpPU8rYXwFE",
        "zzGxVVoX4O0Z",
        "smbhXAHS5Woz",
        "lXPJqumK5ehs",
        "lJKbrQ2H0DQj",
        "WGZg8gY26a0Z",
        "RHWF_VBG8h2O",
        "0qOfgxm14osP",
        "nKpHL3fP7di_",
        "J7HbXE7z-z9d",
        "cdNQzHwY7qN2",
        "XDeXeH1d-dbk",
        "n1TA2lYC7ZnX",
        "YIydNP9V_ycy",
        "eJbs2G6ECMXB",
        "9RzZbbG_ApzP",
        "H5b7JXBQAvFV",
        "u8gf-Wr4AycR",
        "RvBn4uS7BsrB",
        "P5GKOpNMBwsx",
        "0OLglPTIB7UF",
        "md_nfRg9CHxS",
        "KswUMRNoY_OY",
        "rFxQq9TPlAQL",
        "RJ7hupq5IhdO",
        "MUkZXQRDlm2F",
        "A9Wn57S3I50e",
        "bdvobQNJFOU1",
        "ZJQ1Zi1sYUeA",
        "hxP8caUrhFAW",
        "Sguvt1yIcq7z",
        "SdHYhwGdLlS4"
      ],
      "provenance": [],
      "include_colab_link": true
    },
    "kernelspec": {
      "display_name": "Python 3",
      "name": "python3"
    },
    "language_info": {
      "name": "python"
    }
  },
  "nbformat": 4,
  "nbformat_minor": 0
}